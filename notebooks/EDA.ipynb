{
 "cells": [
  {
   "cell_type": "markdown",
   "id": "f7956a1b",
   "metadata": {},
   "source": [
    "# Exploratory Data Analysis\n",
    "This notebook explores the Heart Failure Prediction Dataset to understand its features, distributions, and potential issues."
   ]
  },
  {
   "cell_type": "code",
   "execution_count": null,
   "id": "0dfe2547",
   "metadata": {},
   "outputs": [],
   "source": [
    "# Import necessary libraries\n",
    "import pandas as pd\n",
    "import matplotlib.pyplot as plt\n",
    "import seaborn as sns"
   ]
  },
  {
   "cell_type": "code",
   "execution_count": null,
   "id": "1eaea674",
   "metadata": {},
   "outputs": [],
   "source": [
    "# Load the dataset\n",
    "data = pd.read_csv('../data/train_val_split.csv')\n",
    "data.head()"
   ]
  },
  {
   "cell_type": "code",
   "execution_count": null,
   "id": "3deda72a",
   "metadata": {},
   "outputs": [],
   "source": [
    "# Check for missing values\n",
    "data.isnull().sum()"
   ]
  },
  {
   "cell_type": "code",
   "execution_count": null,
   "id": "d717f6d6",
   "metadata": {},
   "outputs": [],
   "source": [
    "# Visualize feature distributions\n",
    "data.hist(figsize=(12, 10))\n",
    "plt.tight_layout()\n",
    "plt.show()"
   ]
  }
 ],
 "metadata": {
  "language_info": {
   "name": "python"
  }
 },
 "nbformat": 4,
 "nbformat_minor": 5
}
